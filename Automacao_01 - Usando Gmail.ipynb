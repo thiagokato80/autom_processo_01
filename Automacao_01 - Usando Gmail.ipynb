{
 "cells": [
  {
   "cell_type": "markdown",
   "metadata": {},
   "source": [
    "### Passo 1 - Importar Arquivos e Bibliotecas"
   ]
  },
  {
   "cell_type": "code",
   "execution_count": 14,
   "metadata": {},
   "outputs": [],
   "source": [
    "# Importar bibliotecas\n",
    "import pandas as pd\n",
    "import pathlib\n",
    "\n",
    "from googleapiclient.discovery import build\n",
    "from email.mime.text import MIMEText\n",
    "from email.mime.base import MIMEBase\n",
    "from email.mime.multipart import MIMEMultipart\n",
    "from google_auth_oauthlib.flow import InstalledAppFlow\n",
    "import pybase64\n",
    "\n",
    "import warnings\n",
    "warnings.simplefilter(action='ignore', category=FutureWarning)"
   ]
  },
  {
   "cell_type": "code",
   "execution_count": 15,
   "metadata": {},
   "outputs": [],
   "source": [
    "# Importar bases de dados\n",
    "\n",
    "emails = pd.read_excel(r'Bases de Dados\\Emails.xlsx')\n",
    "lojas = pd.read_csv(r'Bases de Dados\\Lojas.csv', encoding='latin1', sep=';')\n",
    "vendas = pd.read_excel(r'Bases de Dados\\Vendas.xlsx')"
   ]
  },
  {
   "cell_type": "markdown",
   "metadata": {},
   "source": [
    "### Passo 2 - Definir Criar uma Tabela para cada Loja e Definir o dia do Indicador"
   ]
  },
  {
   "cell_type": "code",
   "execution_count": 16,
   "metadata": {},
   "outputs": [
    {
     "name": "stdout",
     "output_type": "stream",
     "text": [
      "2019-12-26 00:00:00\n",
      "26/12\n"
     ]
    }
   ],
   "source": [
    "# Incluir nome da loja no database de vendas\n",
    "vendas = vendas.merge(lojas, on='ID Loja')\n",
    "\n",
    "# Dicionário com o nome das lojas\n",
    "dicionario_lojas = {}\n",
    "for loja in lojas['Loja']:\n",
    "    dicionario_lojas[loja] = vendas.loc[vendas['Loja']==loja, :]\n",
    "\n",
    "# Definir o dia do indicador - Última data do relatório\n",
    "dia_indicador = vendas['Data'].max()\n",
    "print(dia_indicador)\n",
    "print('{}/{}'.format(dia_indicador.day, dia_indicador.month))"
   ]
  },
  {
   "cell_type": "markdown",
   "metadata": {},
   "source": [
    "### Passo 3 - Salvar a planilha na pasta de backup"
   ]
  },
  {
   "cell_type": "code",
   "execution_count": 17,
   "metadata": {},
   "outputs": [],
   "source": [
    "#identificar se a pasta com o bakcup dos arquivos das Lojas já existe\n",
    "caminho_backup = pathlib.Path(r'Backup Arquivos Lojas')\n",
    "\n",
    "arquivos_pasta_backup = caminho_backup.iterdir()\n",
    "lista_nomes_backup = [arquivo.name for arquivo in arquivos_pasta_backup]"
   ]
  },
  {
   "cell_type": "code",
   "execution_count": 18,
   "metadata": {},
   "outputs": [],
   "source": [
    "# Criar diretório e gravar relatórios das lojas\n",
    "for loja in dicionario_lojas:\n",
    "    if loja not in lista_nomes_backup:\n",
    "        nova_pasta = caminho_backup / loja\n",
    "        nova_pasta.mkdir()\n",
    "    \n",
    "    # Salvar arquivo dentro da pasta\n",
    "    nome_arquivo = '{}_{}_{}.xlsx'.format(dia_indicador.month, dia_indicador.day, loja)\n",
    "    local_arquivo = caminho_backup / loja / nome_arquivo\n",
    "    dicionario_lojas[loja].to_excel(local_arquivo)"
   ]
  },
  {
   "cell_type": "markdown",
   "metadata": {},
   "source": [
    "### Passo 4 - Calcular o indicador para 1 loja"
   ]
  },
  {
   "cell_type": "code",
   "execution_count": 19,
   "metadata": {},
   "outputs": [],
   "source": [
    "# Definição de metas\n",
    "meta_faturamento_dia = 1000\n",
    "meta_faturamento_ano = 1650000\n",
    "meta_qtdeprodutos_dia = 4\n",
    "meta_qtdeprodutos_ano = 120\n",
    "meta_ticketmedio_dia = 500\n",
    "meta_ticketmedio_ano = 500"
   ]
  },
  {
   "cell_type": "code",
   "execution_count": 20,
   "metadata": {},
   "outputs": [
    {
     "name": "stdout",
     "output_type": "stream",
     "text": [
      "Please visit this URL to authorize this application: https://accounts.google.com/o/oauth2/auth?response_type=code&client_id=831120541196-jlier2o198pf4h9707j6islc37s2i38o.apps.googleusercontent.com&redirect_uri=http%3A%2F%2Flocalhost%3A59638%2F&scope=https%3A%2F%2Fwww.googleapis.com%2Fauth%2Fgmail.readonly+https%3A%2F%2Fwww.googleapis.com%2Fauth%2Fgmail.modify+https%3A%2F%2Fwww.googleapis.com%2Fauth%2Fgmail.compose&state=9TPG7MB25J94h2HSPRtjhLCKSDBZcy&access_type=offline\n"
     ]
    }
   ],
   "source": [
    "# Carregue as credenciais do Google API\n",
    "creds = None\n",
    "SCOPES = ['https://www.googleapis.com/auth/gmail.readonly', 'https://www.googleapis.com/auth/gmail.modify', 'https://www.googleapis.com/auth/gmail.compose']\n",
    "\n",
    "\n",
    "# Carrega as credeciais - Roda novamente cada vez que o programa é disparado\n",
    "credentials_file = 'credenciais.json' # Utilize suas próprias credenciais (https://console.cloud.google.com/apis/dashboard)\n",
    "flow = InstalledAppFlow.from_client_secrets_file(\n",
    "            credentials_file, SCOPES)\n",
    "creds = flow.run_local_server(port=0)\n",
    "\n",
    "# Crie um objeto de serviço para a API do Gmail\n",
    "service = build('gmail', 'v1', credentials=creds)"
   ]
  },
  {
   "cell_type": "code",
   "execution_count": 21,
   "metadata": {
    "scrolled": true
   },
   "outputs": [
    {
     "name": "stdout",
     "output_type": "stream",
     "text": [
      "E-mail da Loja Iguatemi Esplanada enviado\n",
      "E-mail da Loja Shopping Midway Mall enviado\n",
      "E-mail da Loja Norte Shopping enviado\n",
      "E-mail da Loja Shopping Iguatemi Fortaleza enviado\n",
      "E-mail da Loja Shopping União de Osasco enviado\n",
      "E-mail da Loja Shopping Center Interlagos enviado\n",
      "E-mail da Loja Rio Mar Recife enviado\n",
      "E-mail da Loja Salvador Shopping enviado\n",
      "E-mail da Loja Rio Mar Shopping Fortaleza enviado\n",
      "E-mail da Loja Shopping Center Leste Aricanduva enviado\n",
      "E-mail da Loja Ribeirão Shopping enviado\n",
      "E-mail da Loja Shopping Morumbi enviado\n",
      "E-mail da Loja Parque Dom Pedro Shopping enviado\n",
      "E-mail da Loja Bourbon Shopping SP enviado\n",
      "E-mail da Loja Palladium Shopping Curitiba enviado\n",
      "E-mail da Loja Passei das Águas Shopping enviado\n",
      "E-mail da Loja Center Shopping Uberlândia enviado\n",
      "E-mail da Loja Shopping Recife enviado\n",
      "E-mail da Loja Shopping Vila Velha enviado\n",
      "E-mail da Loja Shopping SP Market enviado\n",
      "E-mail da Loja Shopping Eldorado enviado\n",
      "E-mail da Loja Shopping Ibirapuera enviado\n",
      "E-mail da Loja Novo Shopping Ribeirão Preto enviado\n",
      "E-mail da Loja Iguatemi Campinas enviado\n",
      "E-mail da Loja Shopping Barra enviado\n"
     ]
    }
   ],
   "source": [
    "# Prepara e enviar os e-mails para cada loja\n",
    "for loja in dicionario_lojas:\n",
    "\n",
    "    vendas_loja = dicionario_lojas[loja]\n",
    "    vendas_loja_dia = vendas_loja.loc[vendas_loja['Data']==dia_indicador, :]\n",
    "\n",
    "    # Faturamento\n",
    "    faturamento_ano = vendas_loja['Valor Final'].sum()\n",
    "    faturamento_dia = vendas_loja_dia['Valor Final'].sum()\n",
    "\n",
    "    # Diversidade de produtos\n",
    "    qtde_produtos_ano = len(vendas_loja['Produto'].unique())\n",
    "    qtde_produtos_dia = len(vendas_loja_dia['Produto'].unique())\n",
    "\n",
    "    # Ticket medio\n",
    "    valor_venda = vendas_loja.groupby('Código Venda').sum()\n",
    "    ticket_medio_ano = valor_venda['Valor Final'].mean()\n",
    "\n",
    "    # Ticket_medio_dia\n",
    "    valor_venda_dia = vendas_loja_dia.groupby('Código Venda').sum()\n",
    "    ticket_medio_dia = valor_venda_dia['Valor Final'].mean()\n",
    "\n",
    "    ### CRIAR E-MAIL DO GMAIL ###\n",
    "    nome = emails.loc[emails['Loja']==loja, 'Gerente'].values[0]\n",
    "\n",
    "    # Prepare o conteúdo do e-mail\n",
    "    remetente = 'thiagokato@gmail.com'\n",
    "    destinatario = emails.loc[emails['Loja']==loja, 'E-mail'].values[0]\n",
    "    assunto = f'OnePage Dia {dia_indicador.day}/{dia_indicador.month} - Loja {loja}'\n",
    "\n",
    "    # Crie a mensagem MIME\n",
    "    mensagem = MIMEMultipart()\n",
    "    mensagem['From'] = remetente\n",
    "    mensagem['To'] = destinatario\n",
    "    mensagem['Subject'] = assunto\n",
    "    \n",
    "    if faturamento_dia >= meta_faturamento_dia:\n",
    "        cor_fat_dia = 'green'\n",
    "    else:\n",
    "        cor_fat_dia = 'red'\n",
    "    if faturamento_ano >= meta_faturamento_ano:\n",
    "        cor_fat_ano = 'green'\n",
    "    else:\n",
    "        cor_fat_ano = 'red'\n",
    "    if qtde_produtos_dia >= meta_qtdeprodutos_dia:\n",
    "        cor_qtde_dia = 'green'\n",
    "    else:\n",
    "        cor_qtde_dia = 'red'\n",
    "    if qtde_produtos_ano >= meta_qtdeprodutos_ano:\n",
    "        cor_qtde_ano = 'green'\n",
    "    else:\n",
    "        cor_qtde_ano = 'red'\n",
    "    if ticket_medio_dia >= meta_ticketmedio_dia:\n",
    "        cor_ticket_dia = 'green'\n",
    "    else:\n",
    "        cor_ticket_dia = 'red'\n",
    "    if ticket_medio_ano >= meta_ticketmedio_ano:\n",
    "        cor_ticket_ano = 'green'\n",
    "    else:\n",
    "        cor_ticket_ano = 'red'\n",
    "\n",
    "    corpo_html = f'''\n",
    "    <p>Bom dia, {nome}</p>\n",
    "\n",
    "    <p>O resultado de ontem <strong>({dia_indicador.day}/{dia_indicador.month})</strong> da <strong>Loja {loja}</strong> foi:</p>\n",
    "\n",
    "    <table>\n",
    "      <tr>\n",
    "        <th>Indicador</th>\n",
    "        <th>Valor Dia</th>\n",
    "        <th>Meta Dia</th>\n",
    "        <th>Cenário Dia</th>\n",
    "      </tr>\n",
    "      <tr>\n",
    "        <td>Faturamento</td>\n",
    "        <td style=\"text-align: center\">R${faturamento_dia:.2f}</td>\n",
    "        <td style=\"text-align: center\">R${meta_faturamento_dia:.2f}</td>\n",
    "        <td style=\"text-align: center\"><font color=\"{cor_fat_dia}\">◙</font></td>\n",
    "      </tr>\n",
    "      <tr>\n",
    "        <td>Diversidade de Produtos</td>\n",
    "        <td style=\"text-align: center\">{qtde_produtos_dia}</td>\n",
    "        <td style=\"text-align: center\">{meta_qtdeprodutos_dia}</td>\n",
    "        <td style=\"text-align: center\"><font color=\"{cor_qtde_dia}\">◙</font></td>\n",
    "      </tr>\n",
    "      <tr>\n",
    "        <td>Ticket Médio</td>\n",
    "        <td style=\"text-align: center\">R${ticket_medio_dia:.2f}</td>\n",
    "        <td style=\"text-align: center\">R${meta_ticketmedio_dia:.2f}</td>\n",
    "        <td style=\"text-align: center\"><font color=\"{cor_ticket_dia}\">◙</font></td>\n",
    "      </tr>\n",
    "    </table>\n",
    "    <br>\n",
    "    <table>\n",
    "      <tr>\n",
    "        <th>Indicador</th>\n",
    "        <th>Valor Ano</th>\n",
    "        <th>Meta Ano</th>\n",
    "        <th>Cenário Ano</th>\n",
    "      </tr>\n",
    "      <tr>\n",
    "        <td>Faturamento</td>\n",
    "        <td style=\"text-align: center\">R${faturamento_ano:.2f}</td>\n",
    "        <td style=\"text-align: center\">R${meta_faturamento_ano:.2f}</td>\n",
    "        <td style=\"text-align: center\"><font color=\"{cor_fat_ano}\">◙</font></td>\n",
    "      </tr>\n",
    "      <tr>\n",
    "        <td>Diversidade de Produtos</td>\n",
    "        <td style=\"text-align: center\">{qtde_produtos_ano}</td>\n",
    "        <td style=\"text-align: center\">{meta_qtdeprodutos_ano}</td>\n",
    "        <td style=\"text-align: center\"><font color=\"{cor_qtde_ano}\">◙</font></td>\n",
    "      </tr>\n",
    "      <tr>\n",
    "        <td>Ticket Médio</td>\n",
    "        <td style=\"text-align: center\">R${ticket_medio_ano:.2f}</td>\n",
    "        <td style=\"text-align: center\">R${meta_ticketmedio_ano:.2f}</td>\n",
    "        <td style=\"text-align: center\"><font color=\"{cor_ticket_ano}\">◙</font></td>\n",
    "      </tr>\n",
    "    </table>\n",
    "\n",
    "    <p>Segue em anexo a planilha com todos os dados para mais detalhes.</p>\n",
    "\n",
    "    <p>Qualquer dúvida estou à disposição.</p>\n",
    "    <p>Att., GERENTE</p>\n",
    "    '''\n",
    "\n",
    "    # Adicione a parte HTML do corpo da mensagem\n",
    "    parte_html = MIMEText(corpo_html, 'html')\n",
    "    mensagem.attach(parte_html)\n",
    "\n",
    "    # Anexos:\n",
    "    attachment  = pathlib.Path.cwd() / caminho_backup / loja / f'{dia_indicador.month}_{dia_indicador.day}_{loja}.xlsx'\n",
    "    anexo = MIMEBase('application', 'octet-stream')\n",
    "    with open(attachment, 'rb') as arquivo:\n",
    "        anexo.set_payload(arquivo.read())\n",
    "        anexo.add_header('Content-Disposition', 'attachment; filename={}'.format(attachment))\n",
    "    mensagem.attach(anexo)\n",
    "\n",
    "    # Converta a mensagem em uma string codificada em Base64\n",
    "    mensagem_bytes = mensagem.as_bytes()\n",
    "    mensagem_codificada = pybase64.b64encode(mensagem_bytes).decode('utf-8')\n",
    "\n",
    "    # Envie o e-mail\n",
    "    requisicao = {\n",
    "        'raw': mensagem_codificada\n",
    "    }\n",
    "    service.users().messages().send(userId='me', body=requisicao).execute()\n",
    "\n",
    "    print('E-mail da Loja {} enviado'.format(loja))\n",
    "    "
   ]
  },
  {
   "cell_type": "markdown",
   "metadata": {},
   "source": [
    "### Passo 5 - Criar ranking para diretoria"
   ]
  },
  {
   "cell_type": "code",
   "execution_count": 22,
   "metadata": {},
   "outputs": [],
   "source": [
    "# Cria arquivos para envio à diretoria\n",
    "faturamento_lojas = vendas.groupby('Loja')[['Loja', 'Valor Final']].sum()\n",
    "faturamento_lojas_ano = faturamento_lojas.sort_values(by='Valor Final', ascending=False)\n",
    "\n",
    "nome_arquivo = '{}_{}_Ranking Anual.xlsx'.format(dia_indicador.month, dia_indicador.day)\n",
    "faturamento_lojas_ano.to_excel(r'Backup Arquivos Lojas\\{}'.format(nome_arquivo))\n",
    "\n",
    "\n",
    "vendas_dia = vendas.loc[vendas['Data']==dia_indicador, :]\n",
    "faturamento_lojas_dia = vendas_dia.groupby('Loja')[['Loja', 'Valor Final']].sum()\n",
    "faturamento_lojas_dia = faturamento_lojas_dia.sort_values(by='Valor Final', ascending=False)\n",
    "\n",
    "nome_arquivo = '{}_{}_Ranking Dia.xlsx'.format(dia_indicador.month, dia_indicador.day)\n",
    "faturamento_lojas_dia.to_excel(r'Backup Arquivos Lojas\\{}'.format(nome_arquivo))"
   ]
  },
  {
   "cell_type": "markdown",
   "metadata": {},
   "source": [
    "### Passo 6 - Enviar e-mail para diretoria"
   ]
  },
  {
   "cell_type": "code",
   "execution_count": 23,
   "metadata": {},
   "outputs": [
    {
     "name": "stdout",
     "output_type": "stream",
     "text": [
      "E-mail da Diretoria enviado\n"
     ]
    }
   ],
   "source": [
    "# Prepare o conteúdo do e-mail\n",
    "remetente = 'thiagokato@gmail.com'\n",
    "destinatario = emails.loc[emails['Loja']=='Diretoria', 'E-mail'].values[0]\n",
    "assunto = f'Ranking Dia {dia_indicador.day}/{dia_indicador.month}'\n",
    "\n",
    "# Crie a mensagem MIME\n",
    "mensagem = MIMEMultipart()\n",
    "mensagem['From'] = remetente\n",
    "mensagem['To'] = destinatario\n",
    "mensagem['Subject'] = assunto\n",
    "\n",
    "\n",
    "corpo_html = f'''\n",
    "<p>Prezados, bom dia</p>\n",
    "<p></p>\n",
    "<p>Melhor loja do Dia em Faturamento: Loja {faturamento_lojas_dia.index[0]} com Faturamento R${faturamento_lojas_dia.iloc[0, 0]:.2f}</p>\n",
    "<p>Pior loja do Dia em Faturamento: Loja {faturamento_lojas_dia.index[-1]} com Faturamento R${faturamento_lojas_dia.iloc[-1, 0]:.2f}</p>\n",
    "<p></p>\n",
    "<p>Melhor loja do Ano em Faturamento: Loja {faturamento_lojas_ano.index[0]} com Faturamento R${faturamento_lojas_ano.iloc[0, 0]:.2f}</p>\n",
    "<p>Pior loja do Ano em Faturamento: Loja {faturamento_lojas_ano.index[-1]} com Faturamento R${faturamento_lojas_ano.iloc[-1, 0]:.2f}</p>\n",
    "<p></p>\n",
    "<p>Segue em anexo os rankings do ano e do dia de todas as lojas.</p>\n",
    "<p></p>\n",
    "<p>Qualquer dúvida estou à disposição.</p>\n",
    "<p></p>\n",
    "<p>Att.,</p>\n",
    "<p>GERENTE</p>\n",
    "'''\n",
    "\n",
    "# Adicione a parte HTML do corpo da mensagem\n",
    "parte_html = MIMEText(corpo_html, 'html')\n",
    "mensagem.attach(parte_html)\n",
    "\n",
    "# Anexos:\n",
    "attachment  = pathlib.Path.cwd() / caminho_backup / f'{dia_indicador.month}_{dia_indicador.day}_Ranking Anual.xlsx'\n",
    "anexo = MIMEBase('application', 'octet-stream')\n",
    "with open(attachment, 'rb') as arquivo:\n",
    "    anexo.set_payload(arquivo.read())\n",
    "    anexo.add_header('Content-Disposition', 'attachment; filename={}'.format(attachment))\n",
    "mensagem.attach(anexo)\n",
    "\n",
    "attachment  = pathlib.Path.cwd() / caminho_backup / f'{dia_indicador.month}_{dia_indicador.day}_Ranking Dia.xlsx'\n",
    "anexo = MIMEBase('application', 'octet-stream')\n",
    "with open(attachment, 'rb') as arquivo:\n",
    "    anexo.set_payload(arquivo.read())\n",
    "    anexo.add_header('Content-Disposition', 'attachment; filename={}'.format(attachment))\n",
    "mensagem.attach(anexo)\n",
    "\n",
    "\n",
    "# Converta a mensagem em uma string codificada em Base64\n",
    "mensagem_bytes = mensagem.as_bytes()\n",
    "mensagem_codificada = pybase64.b64encode(mensagem_bytes).decode('utf-8')\n",
    "\n",
    "# Envie o e-mail\n",
    "requisicao = {\n",
    "    'raw': mensagem_codificada\n",
    "}\n",
    "service.users().messages().send(userId='me', body=requisicao).execute()\n",
    "\n",
    "print('E-mail da Diretoria enviado')"
   ]
  }
 ],
 "metadata": {
  "kernelspec": {
   "display_name": "hashtag_kernel",
   "language": "python",
   "name": "hashtag_kernel"
  },
  "language_info": {
   "codemirror_mode": {
    "name": "ipython",
    "version": 3
   },
   "file_extension": ".py",
   "mimetype": "text/x-python",
   "name": "python",
   "nbconvert_exporter": "python",
   "pygments_lexer": "ipython3",
   "version": "3.9.7"
  }
 },
 "nbformat": 4,
 "nbformat_minor": 4
}
